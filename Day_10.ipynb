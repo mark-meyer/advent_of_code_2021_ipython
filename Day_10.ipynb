{
 "cells": [
  {
   "cell_type": "code",
   "execution_count": 105,
   "id": "c032af5d",
   "metadata": {},
   "outputs": [],
   "source": [
    "import os\n",
    "from pathlib import Path\n",
    "from collections import Counter\n",
    "\n",
    "FOLDER = Path(os.path.dirname(os.path.realpath(\"__file__\"))) / 'data'\n",
    "in_file = 'day10.txt'\n",
    "\n",
    "with open(FOLDER / in_file) as f:\n",
    "    data = f.read().splitlines()\n",
    "    "
   ]
  },
  {
   "cell_type": "code",
   "execution_count": 106,
   "id": "4ffb3c73",
   "metadata": {},
   "outputs": [],
   "source": [
    "opening = '([{<'\n",
    "closing = ')]}>'\n",
    "\n",
    "points_one = [3, 57, 1197, 25137]\n",
    "points_two = [1, 2, 3, 4]\n"
   ]
  },
  {
   "cell_type": "markdown",
   "id": "b7908402",
   "metadata": {},
   "source": [
    "#### Problem One"
   ]
  },
  {
   "cell_type": "code",
   "execution_count": 109,
   "id": "c8337de2",
   "metadata": {},
   "outputs": [
    {
     "data": {
      "text/plain": [
       "392139"
      ]
     },
     "execution_count": 109,
     "metadata": {},
     "output_type": "execute_result"
    }
   ],
   "source": [
    "points = {\n",
    "    ')': 3, \n",
    "    ']': 57,\n",
    "    '}': 1197,\n",
    "    '>': 25137\n",
    "}\n",
    "\n",
    "matches_backward = dict(zip(closing, opening))\n",
    "\n",
    "def first_illegal_score(s):\n",
    "    stack = []\n",
    "    for l in s:\n",
    "        if l in opening:\n",
    "            stack.append(l)\n",
    "        else:\n",
    "            last = stack.pop()\n",
    "            if last != matches_backward[l]:\n",
    "                return points.get(l, 0)\n",
    "    return 0\n",
    "\n",
    "def solution_one(data):\n",
    "    return sum(map(first_illegal_score, data))\n",
    "\n",
    "solution_one(data)            \n",
    "            "
   ]
  },
  {
   "cell_type": "markdown",
   "id": "722118be",
   "metadata": {},
   "source": [
    "#### Problem Two"
   ]
  },
  {
   "cell_type": "code",
   "execution_count": 108,
   "id": "7c7e1fa9",
   "metadata": {},
   "outputs": [
    {
     "data": {
      "text/plain": [
       "4001832844"
      ]
     },
     "execution_count": 108,
     "metadata": {},
     "output_type": "execute_result"
    }
   ],
   "source": [
    "points = {\n",
    "    ')': 1,\n",
    "    ']': 2,\n",
    "    '}': 3,\n",
    "    '>': 4\n",
    "}\n",
    "\n",
    "backward_matches = dict(zip(points.keys(), opening))\n",
    "forward_matches = dict(zip(opening, points.keys()))\n",
    "\n",
    "\n",
    "def complete_line(s):\n",
    "    stack = []\n",
    "    for l in s:\n",
    "        if l in opening:\n",
    "            stack.append(l)\n",
    "        else:\n",
    "            last = stack.pop()\n",
    "            if last != backward_matches[l]:\n",
    "                  return None\n",
    "    score = 0\n",
    "    for start in reversed(stack):\n",
    "        end = forward_matches[start]\n",
    "        score = score * 5 + points[end]\n",
    "    return score\n",
    "\n",
    "\n",
    "def solution_two():\n",
    "    scores = map(complete_line, data)\n",
    "    total = sorted(filter(None, scores))\n",
    "    return total[len(total)//2]\n",
    "\n",
    "solution_two()"
   ]
  },
  {
   "cell_type": "code",
   "execution_count": null,
   "id": "77a34678",
   "metadata": {},
   "outputs": [],
   "source": []
  }
 ],
 "metadata": {
  "kernelspec": {
   "display_name": "Python 3",
   "language": "python",
   "name": "python3"
  },
  "language_info": {
   "codemirror_mode": {
    "name": "ipython",
    "version": 3
   },
   "file_extension": ".py",
   "mimetype": "text/x-python",
   "name": "python",
   "nbconvert_exporter": "python",
   "pygments_lexer": "ipython3",
   "version": "3.8.5"
  }
 },
 "nbformat": 4,
 "nbformat_minor": 5
}
