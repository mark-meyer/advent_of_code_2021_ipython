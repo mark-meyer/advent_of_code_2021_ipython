{
 "cells": [
  {
   "cell_type": "code",
   "execution_count": 221,
   "id": "940145f6",
   "metadata": {},
   "outputs": [
    {
     "data": {
      "text/plain": [
       "('VPPHOPVVSFSVFOCOSBKF', 'B')"
      ]
     },
     "execution_count": 221,
     "metadata": {},
     "output_type": "execute_result"
    }
   ],
   "source": [
    "import os\n",
    "from pathlib import Path\n",
    "from collections import Counter\n",
    "import re\n",
    "\n",
    "FOLDER = Path(os.path.dirname(os.path.realpath(\"__file__\"))) / 'data'\n",
    "in_file = 'day14.txt'\n",
    "\n",
    "with open(FOLDER / in_file) as f:\n",
    "    template = f.readline().strip()\n",
    "    next(f)\n",
    "    subs = dict(re.findall(r'(\\w+) -> (\\w+)', f.read()))\n",
    "    \n",
    "template, subs['CO']"
   ]
  },
  {
   "cell_type": "code",
   "execution_count": 217,
   "id": "0c999c17",
   "metadata": {},
   "outputs": [],
   "source": [
    "# The last character of the template is always the last character after \n",
    "# substitutions. This character will be counted one too few times in the code below\n",
    "\n",
    "LAST_CHAR = template[-1]\n",
    "\n",
    "# initial pair counts\n",
    "initial_counts = Counter(''.join(p) for p in zip(template, template[1:]))\n",
    "\n",
    "# map a pair to the two pairs it creates\n",
    "lookup = {k: (k[0]+v, v+k[1]) for k,v in subs.items()}\n",
    "\n",
    "def increase_counts(counts, lookup):\n",
    "    ''''\n",
    "    On each iteration the counts of the values will increase by\n",
    "    the number of times we have that pair in the input.\n",
    "    '''\n",
    "    counter = {}\n",
    "    for k,v in counts.items():\n",
    "        for m in lookup[k]:\n",
    "            counter.setdefault(m,0)\n",
    "            counter[m] += v\n",
    "    return counter\n",
    "\n",
    "\n",
    "def run_substitutions(n, counts):\n",
    "    '''Iterate n times updating counts'''\n",
    "    counts = counts.copy()\n",
    "    for _ in range(n):\n",
    "        counts = increase_counts(counts, lookup)\n",
    "    return counts\n",
    "\n",
    "\n",
    "def count_leters_from_pairs(counts, LAST_CHAR):\n",
    "    '''\n",
    "    The count of the letters will be the first of each pair \n",
    "    becuase the second in each pair is repeated. This leaves\n",
    "    the final letter uncounted, so add it back\n",
    "    '''\n",
    "    total_counts = Counter()\n",
    "    for k, v in counts.items():\n",
    "        total_counts[k[0]] += v\n",
    "    total_counts[LAST_CHAR] += 1\n",
    "    return total_counts.most_common(1)[0][1], total_counts.most_common()[-1][1]"
   ]
  },
  {
   "cell_type": "markdown",
   "id": "0ac69d6b",
   "metadata": {},
   "source": [
    "### Problem One\n",
    "Run 10 times"
   ]
  },
  {
   "cell_type": "code",
   "execution_count": 219,
   "id": "4d325e74",
   "metadata": {},
   "outputs": [
    {
     "data": {
      "text/plain": [
       "2233"
      ]
     },
     "execution_count": 219,
     "metadata": {},
     "output_type": "execute_result"
    }
   ],
   "source": [
    "pair_counts = run_substitutions(10, counts)\n",
    "most, least = count_leters_from_pairs(pair_counts, LAST_CHAR)\n",
    "most - least"
   ]
  },
  {
   "cell_type": "markdown",
   "id": "48b9ca1f",
   "metadata": {},
   "source": [
    "### Problem Two\n",
    "Run 40 times"
   ]
  },
  {
   "cell_type": "code",
   "execution_count": 220,
   "id": "9491ff93",
   "metadata": {},
   "outputs": [
    {
     "data": {
      "text/plain": [
       "2884513602164"
      ]
     },
     "execution_count": 220,
     "metadata": {},
     "output_type": "execute_result"
    }
   ],
   "source": [
    "pair_counts = run_substitutions(40, counts)\n",
    "most, least = count_leters_from_pairs(pair_counts, LAST_CHAR)\n",
    "most - least"
   ]
  }
 ],
 "metadata": {
  "kernelspec": {
   "display_name": "Python 3",
   "language": "python",
   "name": "python3"
  },
  "language_info": {
   "codemirror_mode": {
    "name": "ipython",
    "version": 3
   },
   "file_extension": ".py",
   "mimetype": "text/x-python",
   "name": "python",
   "nbconvert_exporter": "python",
   "pygments_lexer": "ipython3",
   "version": "3.8.5"
  }
 },
 "nbformat": 4,
 "nbformat_minor": 5
}
