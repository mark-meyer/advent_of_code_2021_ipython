{
 "cells": [
  {
   "cell_type": "code",
   "execution_count": 1,
   "id": "86152479",
   "metadata": {},
   "outputs": [],
   "source": [
    "import os\n",
    "from pathlib import Path\n",
    "from collections import defaultdict\n",
    "\n",
    "FOLDER = Path(os.path.dirname(os.path.realpath(\"__file__\"))) / 'data'\n",
    "\n",
    "in_file = 'day12.txt'\n",
    "\n",
    "with open(FOLDER / in_file) as f:\n",
    "    data = f.read().splitlines()  "
   ]
  },
  {
   "cell_type": "code",
   "execution_count": 2,
   "id": "660f92bb",
   "metadata": {},
   "outputs": [],
   "source": [
    "'''\n",
    "It's a non-directed graph, need to add \n",
    "edge for both direction. But don't bother\n",
    "going back to start or starting at end.\n",
    "'''\n",
    "\n",
    "graph = defaultdict(set)\n",
    "\n",
    "for line in data:\n",
    "    source, dest = line.split('-')\n",
    "    \n",
    "    if dest != 'start' and source != 'end':\n",
    "        graph[source].add(dest)\n",
    "\n",
    "    if source !='start' and dest!='end':\n",
    "        graph[dest].add(source)"
   ]
  },
  {
   "cell_type": "code",
   "execution_count": 3,
   "id": "9c07a6ba",
   "metadata": {
    "scrolled": true
   },
   "outputs": [
    {
     "name": "stdout",
     "output_type": "stream",
     "text": [
      "solution 1: 3410\n"
     ]
    }
   ],
   "source": [
    "def problem_one(graph, symbol, seen=None):\n",
    "    if seen is None:\n",
    "        seen = set()\n",
    "    if symbol == 'end':\n",
    "        yield 1\n",
    "        return\n",
    "    \n",
    "    for node in graph[symbol] - seen:\n",
    "        local_seen = set() if node.isupper() else set([node])\n",
    "        yield sum(problem_one(graph, node, seen | local_seen))\n",
    "        \n",
    "paths = problem_one(graph, 'start')  \n",
    "print(f\"solution 1: {sum(paths)}\")\n"
   ]
  },
  {
   "cell_type": "code",
   "execution_count": 4,
   "id": "3833eff8",
   "metadata": {},
   "outputs": [
    {
     "name": "stdout",
     "output_type": "stream",
     "text": [
      "solution 2: 98796\n"
     ]
    }
   ],
   "source": [
    "def problem_two(graph, symbol, seen=None, twice=False):\n",
    "    if seen is None:\n",
    "        seen = set()\n",
    "    if symbol == 'end':\n",
    "        yield 1\n",
    "        return\n",
    "\n",
    "    for node in graph[symbol]:\n",
    "        local_twice = twice\n",
    "        local_seen = set()\n",
    "        if not node.isupper():\n",
    "            local_seen.add(node)\n",
    "            if node in seen:\n",
    "                if local_twice:\n",
    "                    continue\n",
    "                local_twice = True\n",
    "            \n",
    "        yield sum(problem_two(graph, node, seen | local_seen, local_twice))\n",
    "        \n",
    "paths = problem_two(graph, 'start')\n",
    "print(f\"solution 2: {sum(paths)}\")"
   ]
  },
  {
   "cell_type": "code",
   "execution_count": 7,
   "id": "3fa2ad1c",
   "metadata": {},
   "outputs": [
    {
     "name": "stdout",
     "output_type": "stream",
     "text": [
      "527 ms ± 2.93 ms per loop (mean ± std. dev. of 7 runs, 1 loop each)\n"
     ]
    }
   ],
   "source": [
    "%timeit sum(problem_two(graph, 'start')) #... hmm"
   ]
  },
  {
   "cell_type": "code",
   "execution_count": null,
   "id": "eae04914",
   "metadata": {},
   "outputs": [],
   "source": []
  }
 ],
 "metadata": {
  "kernelspec": {
   "display_name": "Python 3",
   "language": "python",
   "name": "python3"
  },
  "language_info": {
   "codemirror_mode": {
    "name": "ipython",
    "version": 3
   },
   "file_extension": ".py",
   "mimetype": "text/x-python",
   "name": "python",
   "nbconvert_exporter": "python",
   "pygments_lexer": "ipython3",
   "version": "3.8.5"
  }
 },
 "nbformat": 4,
 "nbformat_minor": 5
}
