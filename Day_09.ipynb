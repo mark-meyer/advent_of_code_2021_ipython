{
 "cells": [
  {
   "cell_type": "code",
   "execution_count": 13,
   "id": "1c99b740",
   "metadata": {},
   "outputs": [],
   "source": [
    "import os\n",
    "from pathlib import Path\n",
    "from itertools import product\n",
    "\n",
    "FOLDER = Path(os.path.dirname(os.path.realpath(\"__file__\"))) / 'data'\n",
    "in_file = 'day9.txt'\n",
    "\n",
    "with open(FOLDER / in_file) as f:\n",
    "    data =  [list(map(int, line.strip())) for line in f ]\n"
   ]
  },
  {
   "cell_type": "code",
   "execution_count": 20,
   "id": "599d157f",
   "metadata": {},
   "outputs": [],
   "source": [
    "class FindBasins:\n",
    "    def __init__(self, data):\n",
    "        self.data = data\n",
    "        self.h = len(data)\n",
    "        self.w = len(data[0])\n",
    "\n",
    "    def __getitem__(self, key):\n",
    "        row, col = key\n",
    "        return self.data[row][col]\n",
    "    \n",
    "    def __iter__(self):\n",
    "        return product(range(self.h), range(self.w))\n",
    "                \n",
    "    def find_basin_sizes(self):\n",
    "        seen = set()\n",
    "        basin_counts = [self.dfs(p, seen) for p in self]\n",
    "        return sorted(basin_counts, reverse=True)\n",
    "\n",
    "    def low_counts(self):\n",
    "        count = 0\n",
    "        for p in self:\n",
    "            if self[p] < min(self[n] for n in self.get_neighbors(p)):\n",
    "                count += self[p] + 1\n",
    "        return count\n",
    "        \n",
    "    def get_neighbors(self, p):\n",
    "        row, col = p\n",
    "        if row > 0:\n",
    "            yield row - 1, col\n",
    "        if row < self.h - 1:\n",
    "            yield row + 1, col\n",
    "        if col > 0 :\n",
    "            yield row, col - 1\n",
    "        if col < self.w - 1:\n",
    "            yield row, col + 1\n",
    "\n",
    "    def dfs(self, point, seen):\n",
    "        count = 0\n",
    "        stack = [point]\n",
    "\n",
    "        while stack:\n",
    "            p = stack.pop()\n",
    "            if p in seen or self[p] == 9:\n",
    "                continue\n",
    "            seen.add(p)                \n",
    "            stack.extend(self.get_neighbors(p))\n",
    "            count += 1\n",
    "\n",
    "        return count        "
   ]
  },
  {
   "cell_type": "code",
   "execution_count": 21,
   "id": "d9011d60",
   "metadata": {},
   "outputs": [
    {
     "name": "stdout",
     "output_type": "stream",
     "text": [
      "Solution 1: 535\n",
      "Solution 2: 1122700\n"
     ]
    }
   ],
   "source": [
    "fb = FindBasins(data)\n",
    "print(f\"Solution 1: {fb.low_counts()}\")\n",
    "\n",
    "\n",
    "largest = fb.find_basin_sizes()\n",
    "a, b, c = largest[:3]\n",
    "print(f\"Solution 2: {a * b * c}\")"
   ]
  },
  {
   "cell_type": "code",
   "execution_count": 18,
   "id": "6ce76679",
   "metadata": {},
   "outputs": [
    {
     "name": "stdout",
     "output_type": "stream",
     "text": [
      "18.8 ms ± 232 µs per loop (mean ± std. dev. of 7 runs, 100 loops each)\n"
     ]
    }
   ],
   "source": [
    "%timeit fb.find_basin_sizes() "
   ]
  },
  {
   "cell_type": "code",
   "execution_count": null,
   "id": "87065cde",
   "metadata": {},
   "outputs": [],
   "source": []
  }
 ],
 "metadata": {
  "kernelspec": {
   "display_name": "Python 3",
   "language": "python",
   "name": "python3"
  },
  "language_info": {
   "codemirror_mode": {
    "name": "ipython",
    "version": 3
   },
   "file_extension": ".py",
   "mimetype": "text/x-python",
   "name": "python",
   "nbconvert_exporter": "python",
   "pygments_lexer": "ipython3",
   "version": "3.8.5"
  }
 },
 "nbformat": 4,
 "nbformat_minor": 5
}
