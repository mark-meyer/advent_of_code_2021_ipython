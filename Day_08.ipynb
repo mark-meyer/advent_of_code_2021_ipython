{
 "cells": [
  {
   "cell_type": "code",
   "execution_count": 118,
   "id": "87d13d47",
   "metadata": {},
   "outputs": [],
   "source": [
    "import numpy as np\n",
    "import os\n",
    "from pathlib import Path\n",
    "import re\n",
    "from collections import Counter, defaultdict\n",
    "\n",
    "FOLDER = Path(os.path.dirname(os.path.realpath(\"__file__\"))) / 'data'\n",
    "in_file = 'day8.txt'\n",
    "\n",
    "with open(FOLDER / in_file) as f:\n",
    "    data = [s.strip().split(' | ') for s in f]\n"
   ]
  },
  {
   "cell_type": "code",
   "execution_count": 119,
   "id": "1b6990ff",
   "metadata": {},
   "outputs": [],
   "source": [
    "from collections import Counter\n",
    "\n",
    "'''each display digit expressed as an 8 bit int'''\n",
    "bits = {\n",
    "    0b1110111: '0',\n",
    "    0b0010010: '1',\n",
    "    0b1011101: '2',\n",
    "    0b1011011: '3',\n",
    "    0b0111010: '4',\n",
    "    0b1101011: '5',\n",
    "    0b1101111: '6',\n",
    "    0b1010010: '7',\n",
    "    0b1111111: '8',\n",
    "    0b1111011: '9'\n",
    "}\n",
    "\n",
    "def rev_dict(l):\n",
    "    '''map counts to lists of characters'''\n",
    "    counts = Counter(''.join(l))\n",
    "    res = {}\n",
    "    for k, v in counts.items():\n",
    "        res.setdefault(v, []).append(k)\n",
    "    return res\n",
    "\n",
    "def map_wires(l):\n",
    "    '''\n",
    "    Determine which input character lights up which segment.\n",
    "    Return a dict mapping character to bit\n",
    "\n",
    "    The info from two sets of letter counts is enough to decode\n",
    "    all letter counts\n",
    "    '''\n",
    "    l = l.split()\n",
    "    \n",
    "    # letter counts for all tokens\n",
    "    rev = rev_dict(l)\n",
    "    # letters counts for tokens except '4'\n",
    "    rev2 = rev_dict([s for s in l if len(s) != 4])\n",
    "\n",
    "    bits = {\n",
    "        64: None,       #a\n",
    "        32: rev[6][0],  #b\n",
    "        16: None,       #c\n",
    "        8:  rev2[6][0], #d\n",
    "        4:  rev[4][0],  #e\n",
    "        2:  rev[9][0],  #f\n",
    "        1:  None        #g\n",
    "    }\n",
    "    bits[64] = next(c for c in rev2[8] if c != bits[2])  #a\n",
    "    bits[16] = next(c for c in rev[8] if c != bits[64])  #c\n",
    "    bits[1]  = next(c for c in rev2[7] if c != bits[16]) #g \n",
    "\n",
    "    return {v:k for k, v in bits.items()}\n",
    "\n",
    "def word_to_digit(word, bit_map):\n",
    "    return sum(bit_map[c] for c in word)\n",
    "\n",
    "def decode_input(s, wires):\n",
    "    tokens = s.split()\n",
    "    s = ''.join([bits[word_to_digit(t, wires)] for t in tokens])\n",
    "    return int(s)\n",
    "    \n"
   ]
  },
  {
   "cell_type": "code",
   "execution_count": 127,
   "id": "b2c78349",
   "metadata": {},
   "outputs": [
    {
     "data": {
      "text/plain": [
       "548"
      ]
     },
     "execution_count": 127,
     "metadata": {},
     "output_type": "execute_result"
    }
   ],
   "source": [
    "def solution_one(data):\n",
    "    count = 0\n",
    "    for line in data:\n",
    "        key, cypher = line\n",
    "        count += len([s for s in cypher.split() if len(s) in [2, 3, 4, 7]])\n",
    "    \n",
    "    return count\n",
    "\n",
    "solution_one(data)"
   ]
  },
  {
   "cell_type": "code",
   "execution_count": 120,
   "id": "70d9a796",
   "metadata": {},
   "outputs": [
    {
     "name": "stdout",
     "output_type": "stream",
     "text": [
      "1074888\n"
     ]
    }
   ],
   "source": [
    "def solution_two(data):\n",
    "    total = 0\n",
    "    for line in data:\n",
    "        key, cypher = line\n",
    "        wires = map_wires(key)\n",
    "        total += decode_input(cypher, wires)\n",
    "    return total\n",
    "\n",
    "print(solution_two(data))\n"
   ]
  }
 ],
 "metadata": {
  "kernelspec": {
   "display_name": "Python 3",
   "language": "python",
   "name": "python3"
  },
  "language_info": {
   "codemirror_mode": {
    "name": "ipython",
    "version": 3
   },
   "file_extension": ".py",
   "mimetype": "text/x-python",
   "name": "python",
   "nbconvert_exporter": "python",
   "pygments_lexer": "ipython3",
   "version": "3.8.5"
  }
 },
 "nbformat": 4,
 "nbformat_minor": 5
}
