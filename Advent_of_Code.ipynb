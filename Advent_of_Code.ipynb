{
 "cells": [
  {
   "cell_type": "code",
   "execution_count": 2,
   "id": "ae9c0785",
   "metadata": {},
   "outputs": [],
   "source": [
    "import re\n",
    "import os\n",
    "from pathlib import Path\n",
    "\n",
    "FOLDER = Path(os.path.dirname(os.path.realpath(\"__file__\"))) / 'data'"
   ]
  },
  {
   "cell_type": "markdown",
   "id": "efed6548",
   "metadata": {},
   "source": [
    "### Day 01"
   ]
  },
  {
   "cell_type": "code",
   "execution_count": 3,
   "id": "e79f6dcc",
   "metadata": {},
   "outputs": [
    {
     "name": "stdout",
     "output_type": "stream",
     "text": [
      "solution 1: 1722\n",
      "solution 2: 1748\n"
     ]
    }
   ],
   "source": [
    "in_file = 'day1.txt'\n",
    "\n",
    "with open(FOLDER / in_file) as f:\n",
    "    data = list(map(int, f))\n",
    "\n",
    "answer1 = sum(a < b for a, b in zip(data, data[1:]))\n",
    "    \n",
    "trio_sums = [sum(trio) for trio in zip(data, data[1:], data[2:])]\n",
    "answer2 = sum(a < b for a, b in zip(trio_sums, trio_sums[1:]))\n",
    "\n",
    "print(\"solution 1:\", answer1)\n",
    "print(\"solution 2:\", answer2)"
   ]
  },
  {
   "cell_type": "markdown",
   "id": "e2a98858",
   "metadata": {},
   "source": [
    "### Day 02"
   ]
  },
  {
   "cell_type": "code",
   "execution_count": 6,
   "id": "43c290d7",
   "metadata": {},
   "outputs": [
    {
     "name": "stdout",
     "output_type": "stream",
     "text": [
      "solution 1: 2272262\n",
      "solution 2: 2134882034\n"
     ]
    }
   ],
   "source": [
    "in_file = 'day2.txt'\n",
    "\n",
    "import numpy as np\n",
    "\n",
    "with open(FOLDER / in_file) as f:\n",
    "    data = [line.split() for line in f]\n",
    "\n",
    "directions = {\n",
    "    'forward': np.array([0, 1]),\n",
    "    'down':    np.array([1, 0]),\n",
    "    'up':      np.array([-1, 0])\n",
    "}\n",
    "\n",
    "# locations is an array of depth/horiz vectors\n",
    "location = np.array([directions[com] * int(unit) for com, unit in data])\n",
    "\n",
    "def solution_2_1(data):\n",
    "    # depth, horiz displacement is the sum of the vectors\n",
    "    return location.sum(axis=0).prod()\n",
    "\n",
    "\n",
    "def solution_2_2(data):\n",
    "    # depth is the horizontal displacement * cummulative sum of depth\n",
    "    location[:, 0] = location[:, 1] * location[:, 0].cumsum()\n",
    "    return location.sum(axis=0).prod()\n",
    "\n",
    "\n",
    "print(\"solution 1:\", solution_2_1(data))\n",
    "print(\"solution 2:\", solution_2_2(data))\n"
   ]
  }
 ],
 "metadata": {
  "kernelspec": {
   "display_name": "Python 3",
   "language": "python",
   "name": "python3"
  },
  "language_info": {
   "codemirror_mode": {
    "name": "ipython",
    "version": 3
   },
   "file_extension": ".py",
   "mimetype": "text/x-python",
   "name": "python",
   "nbconvert_exporter": "python",
   "pygments_lexer": "ipython3",
   "version": "3.8.5"
  }
 },
 "nbformat": 4,
 "nbformat_minor": 5
}
