{
 "cells": [
  {
   "cell_type": "code",
   "execution_count": 2,
   "id": "ae9c0785",
   "metadata": {},
   "outputs": [],
   "source": [
    "import re\n",
    "import os\n",
    "from pathlib import Path\n",
    "\n",
    "FOLDER = Path(os.path.dirname(os.path.realpath(\"__file__\"))) / 'data'"
   ]
  },
  {
   "cell_type": "markdown",
   "id": "efed6548",
   "metadata": {},
   "source": [
    "### Day 01"
   ]
  },
  {
   "cell_type": "code",
   "execution_count": 3,
   "id": "e79f6dcc",
   "metadata": {},
   "outputs": [
    {
     "name": "stdout",
     "output_type": "stream",
     "text": [
      "solution 1: 1722\n",
      "solution 2: 1748\n"
     ]
    }
   ],
   "source": [
    "in_file = 'day1.txt'\n",
    "\n",
    "with open(FOLDER / in_file) as f:\n",
    "    data = list(map(int, f))\n",
    "\n",
    "answer1 = sum(a < b for a, b in zip(data, data[1:]))\n",
    "    \n",
    "trio_sums = [sum(trio) for trio in zip(data, data[1:], data[2:])]\n",
    "answer2 = sum(a < b for a, b in zip(trio_sums, trio_sums[1:]))\n",
    "\n",
    "print(\"solution 1:\", answer1)\n",
    "print(\"solution 2:\", answer2)"
   ]
  },
  {
   "cell_type": "markdown",
   "id": "e2a98858",
   "metadata": {},
   "source": [
    "### Day 02"
   ]
  },
  {
   "cell_type": "code",
   "execution_count": 12,
   "id": "43c290d7",
   "metadata": {},
   "outputs": [
    {
     "name": "stdout",
     "output_type": "stream",
     "text": [
      "solution 1: 2272262\n",
      "solution 2: 2134882034\n"
     ]
    }
   ],
   "source": [
    "in_file = 'day2.txt'\n",
    "\n",
    "import numpy as np\n",
    "\n",
    "with open(FOLDER / in_file) as f:\n",
    "    data = [line.split() for line in f]\n",
    "\n",
    "directions = {\n",
    "    'forward': np.array([0, 1]),\n",
    "    'down':    np.array([1, 0]),\n",
    "    'up':      np.array([-1, 0])\n",
    "}\n",
    "\n",
    "# locations is an array of depth/horiz vectors\n",
    "location = np.array([directions[com] * int(unit) for com, unit in data])\n",
    "\n",
    "def solution_2_1(data):\n",
    "    # depth, horiz displacement is the sum of the vectors\n",
    "    return location.sum(axis=0).prod()\n",
    "\n",
    "\n",
    "def solution_2_2(data):\n",
    "    # depth is the horizontal displacement * cummulative sum of depth\n",
    "    location[:, 0] = location[:, 1] * location[:, 0].cumsum()\n",
    "    return location.sum(axis=0).prod()\n",
    "\n",
    "\n",
    "print(\"solution 1:\", solution_2_1(data))\n",
    "print(\"solution 2:\", solution_2_2(data))\n"
   ]
  },
  {
   "cell_type": "markdown",
   "id": "92e9286f",
   "metadata": {},
   "source": [
    "### Day 03"
   ]
  },
  {
   "cell_type": "code",
   "execution_count": 82,
   "id": "810cc557",
   "metadata": {},
   "outputs": [
    {
     "data": {
      "text/plain": [
       "1108"
      ]
     },
     "execution_count": 82,
     "metadata": {},
     "output_type": "execute_result"
    }
   ],
   "source": [
    "import numpy as np\n",
    "\n",
    "in_file = 'day3.txt'\n",
    "\n",
    "with open(FOLDER / in_file) as f:\n",
    "    data = np.array([list(line.strip()) for line in f], dtype=int)\n",
    "\n",
    "def most_common(data):\n",
    "    return (data.sum(axis=0) >= data.shape[0]/2).astype(int)\n",
    "\n",
    "def least_common(data):\n",
    "    return (data.sum(axis=0) < data.shape[0]/2).astype(int)\n",
    "\n",
    "def bin_array_to_int(arr):\n",
    "    mutilplies_12bit = 1 << np.arange(11, -1, -1)\n",
    "    return arr @ mutilplies_12bit\n",
    "\n",
    "bin_array_to_int(least_common(data))"
   ]
  },
  {
   "cell_type": "code",
   "execution_count": 4,
   "id": "afa803db",
   "metadata": {},
   "outputs": [
    {
     "data": {
      "text/plain": [
       "3309596"
      ]
     },
     "execution_count": 4,
     "metadata": {},
     "output_type": "execute_result"
    }
   ],
   "source": [
    "def solution_one(data):\n",
    "    gamma = bin_array_to_int(most_common(data))\n",
    "    epsilon = bin_array_to_int(least_common(data))\n",
    "\n",
    "    return gamma * epsilon\n",
    "\n",
    "solution_one(data)"
   ]
  },
  {
   "cell_type": "code",
   "execution_count": 83,
   "id": "54fa803a",
   "metadata": {},
   "outputs": [
    {
     "name": "stdout",
     "output_type": "stream",
     "text": [
      "2815\n"
     ]
    },
    {
     "data": {
      "text/plain": [
       "2981085"
      ]
     },
     "execution_count": 83,
     "metadata": {},
     "output_type": "execute_result"
    }
   ],
   "source": [
    "def solution_two(data):\n",
    "    bit_length = data.shape[1]\n",
    "    filtered = data\n",
    "\n",
    "    for idx in range(bit_length):\n",
    "        most = most_common(filtered)[idx]\n",
    "        filtered = filtered[np.where(filtered[:,idx] == most)]\n",
    "        if len(filtered) == 1:\n",
    "            break\n",
    "\n",
    "    oxygen = bin_array_to_int(filtered[0])\n",
    "    \n",
    "    filtered = data\n",
    "    for idx in range(bit_length):\n",
    "        least = least_common(filtered)[idx]\n",
    "        filtered = filtered[np.where(filtered[:,idx] == least)]\n",
    "        if len(filtered) == 1:\n",
    "            break\n",
    "    CO2 = bin_array_to_int(filtered[0])\n",
    "\n",
    "    return oxygen * CO2\n",
    "     \n",
    "\n",
    "solution_two(data)\n",
    "    "
   ]
  },
  {
   "cell_type": "markdown",
   "id": "c7a5dc82",
   "metadata": {},
   "source": [
    "### Day 4"
   ]
  },
  {
   "cell_type": "code",
   "execution_count": 362,
   "id": "50ec09ca",
   "metadata": {},
   "outputs": [
    {
     "data": {
      "text/plain": [
       "array([38, 54, 68, 93, 72, 12, 33,  8, 98, 88, 21, 91, 53, 61, 26, 36, 18,\n",
       "       80, 73, 47,  3,  5, 55, 92, 67, 52, 25, 40, 56, 95,  9, 62, 30, 31,\n",
       "       85, 65, 14,  2, 78, 75, 15, 39, 87, 27, 58, 42, 60, 32, 41, 83, 51,\n",
       "       77, 10, 66, 70,  4, 37,  6, 89, 23, 16, 49, 48, 63, 94, 97, 86, 64,\n",
       "       74, 82,  7,  0, 11, 71, 44, 43, 50, 69, 45, 81, 20, 28, 46, 79, 90,\n",
       "       34, 35, 96, 99, 59,  1, 76, 22, 24, 17, 57, 13, 19, 84, 29])"
      ]
     },
     "execution_count": 362,
     "metadata": {},
     "output_type": "execute_result"
    }
   ],
   "source": [
    "in_file = 'day4.txt'\n",
    "\n",
    "with open(FOLDER / in_file) as f:\n",
    "    numbers = np.loadtxt([next(f)], delimiter=',', dtype=int)\n",
    "    boards = np.loadtxt(f, dtype=int).reshape(-1, 5, 5)\n",
    "    #records = f.read().split('\\n\\n')\n",
    "\n",
    "#draws = [int(n) for n in records.pop(0).split(',')]\n",
    "#boards = np.loadtxt(records, dtype=int).reshape(-1, 5, 5)\n",
    "numbers\n"
   ]
  },
  {
   "cell_type": "code",
   "execution_count": 315,
   "id": "8f9db3e0",
   "metadata": {},
   "outputs": [
    {
     "data": {
      "text/plain": [
       "array([[7.]])"
      ]
     },
     "execution_count": 315,
     "metadata": {},
     "output_type": "execute_result"
    }
   ],
   "source": [
    "a = np.zeros([5, 5])\n",
    "a[1, :] = 1\n",
    "a[2, 3] = 1\n",
    "a[0, 0] = 1\n",
    "np.apply_over_axes(np.sum, a, [0, 1])"
   ]
  },
  {
   "cell_type": "code",
   "execution_count": 228,
   "id": "b9137d0c",
   "metadata": {},
   "outputs": [
    {
     "data": {
      "text/plain": [
       "array([[1, 0]])"
      ]
     },
     "execution_count": 228,
     "metadata": {},
     "output_type": "execute_result"
    }
   ],
   "source": [
    "\n",
    "np.argwhere(marks.reshape(-1, 5, 5).sum(axis=1) == 5)"
   ]
  },
  {
   "cell_type": "code",
   "execution_count": 199,
   "id": "05b6d4d0",
   "metadata": {},
   "outputs": [
    {
     "data": {
      "text/plain": [
       "array([0, 1, 0, ..., 0, 0, 0])"
      ]
     },
     "execution_count": 199,
     "metadata": {},
     "output_type": "execute_result"
    }
   ],
   "source": [
    "marks"
   ]
  },
  {
   "cell_type": "code",
   "execution_count": null,
   "id": "18f2632d",
   "metadata": {},
   "outputs": [],
   "source": []
  }
 ],
 "metadata": {
  "kernelspec": {
   "display_name": "Python 3",
   "language": "python",
   "name": "python3"
  },
  "language_info": {
   "codemirror_mode": {
    "name": "ipython",
    "version": 3
   },
   "file_extension": ".py",
   "mimetype": "text/x-python",
   "name": "python",
   "nbconvert_exporter": "python",
   "pygments_lexer": "ipython3",
   "version": "3.8.5"
  }
 },
 "nbformat": 4,
 "nbformat_minor": 5
}
