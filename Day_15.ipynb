{
 "cells": [
  {
   "cell_type": "code",
   "execution_count": 1,
   "id": "b7998c49",
   "metadata": {},
   "outputs": [],
   "source": [
    "import networkx as nx\n",
    "import os\n",
    "from pathlib import Path\n",
    "from itertools import product\n",
    "import numpy as np\n",
    "\n",
    "FOLDER = Path(os.path.dirname(os.path.realpath(\"__file__\"))) / 'data'\n",
    "in_file = 'day15.txt'\n",
    "\n",
    "with open(FOLDER / in_file) as f:\n",
    "    data = np.array([list(line.strip()) for line in f], dtype=int)"
   ]
  },
  {
   "cell_type": "markdown",
   "id": "9fd75553",
   "metadata": {},
   "source": [
    "### Part One"
   ]
  },
  {
   "cell_type": "code",
   "execution_count": 2,
   "id": "0f8248f8",
   "metadata": {},
   "outputs": [
    {
     "name": "stdout",
     "output_type": "stream",
     "text": [
      "Soluition 1:  435\n"
     ]
    }
   ],
   "source": [
    "## Great latice graph with weighted edges from matrix\n",
    "def make_graph(data):\n",
    "    G = nx.DiGraph()\n",
    "    max_w = len(data[0])\n",
    "    max_h = len(data)\n",
    "\n",
    "\n",
    "    shifts = [(0, 1), (1, 0), (0, -1), (-1, 0)]\n",
    "    for row, line in enumerate(data):\n",
    "        for col, cost in enumerate(line):\n",
    "            for row_shift, col_shift in shifts:\n",
    "                next_row = row_shift + row\n",
    "                next_col = col_shift + col\n",
    "                if 0 <= next_row < max_h and 0 <= next_col < max_w:\n",
    "                    G.add_edge((row, col), (next_row, next_col),  weight=int(data[next_row][next_col]))\n",
    "\n",
    "    return G\n",
    "\n",
    "def least_cost_path(G, source, target):\n",
    "    path = nx.dijkstra_path(G, source=(0,0), target=(max_h-1, max_w-1), weight=\"weight\")\n",
    "    return sum(G.edges[u,v]['weight'] for u,v in zip(path, path[1:]))\n",
    "\n",
    "    \n",
    "max_w = len(data[0])\n",
    "max_h = len(data)\n",
    "\n",
    "G = make_graph(data)\n",
    "\n",
    "cost = least_cost_path(G, (0, 0), data.shape)\n",
    "print(\"Soluition 1: \", cost )\n",
    "\n"
   ]
  },
  {
   "cell_type": "markdown",
   "id": "134a9454",
   "metadata": {},
   "source": [
    "### Part 2 "
   ]
  },
  {
   "cell_type": "code",
   "execution_count": 3,
   "id": "4ebca2be",
   "metadata": {},
   "outputs": [
    {
     "name": "stdout",
     "output_type": "stream",
     "text": [
      "Soluition 2:  2842\n"
     ]
    }
   ],
   "source": [
    "with open(FOLDER / in_file) as f:\n",
    "    data = np.array([list(line.strip()) for line in f], dtype=int)\n",
    "\n",
    "def expand_data(data):    \n",
    "    d = np.concatenate([(data - 1  + n) % 9 + 1 for n in range(5)], axis=1)\n",
    "    return np.concatenate([(d - 1  + n) % 9 + 1 for n in range(5)], axis=0)\n",
    "\n",
    "expanded_data = expand_data(data)\n",
    "max_h, max_w = expanded_data.shape\n",
    "\n",
    "G = make_graph(expanded_data)\n",
    "\n",
    "cost = least_cost_path(G, (0, 0), data.shape)\n",
    "print(\"Soluition 2: \", cost )\n"
   ]
  },
  {
   "cell_type": "code",
   "execution_count": null,
   "id": "68333ac0",
   "metadata": {},
   "outputs": [],
   "source": []
  }
 ],
 "metadata": {
  "kernelspec": {
   "display_name": "Python 3",
   "language": "python",
   "name": "python3"
  },
  "language_info": {
   "codemirror_mode": {
    "name": "ipython",
    "version": 3
   },
   "file_extension": ".py",
   "mimetype": "text/x-python",
   "name": "python",
   "nbconvert_exporter": "python",
   "pygments_lexer": "ipython3",
   "version": "3.8.5"
  }
 },
 "nbformat": 4,
 "nbformat_minor": 5
}
